{
 "cells": [
  {
   "cell_type": "code",
   "execution_count": 1,
   "id": "f5451a14-c1a9-45e4-9ef4-78bbce396029",
   "metadata": {},
   "outputs": [],
   "source": [
    "import turtle "
   ]
  },
  {
   "cell_type": "code",
   "execution_count": 2,
   "id": "abea1ae4-2c67-49b4-9825-fcf0460b5627",
   "metadata": {},
   "outputs": [],
   "source": [
    "bob = turtle.Turtle"
   ]
  },
  {
   "cell_type": "code",
   "execution_count": null,
   "id": "a7becbbb-e699-4710-975f-fc7348af97d8",
   "metadata": {},
   "outputs": [],
   "source": []
  }
 ],
 "metadata": {
  "kernelspec": {
   "display_name": "Python 3 (ipykernel)",
   "language": "python",
   "name": "python3"
  },
  "language_info": {
   "codemirror_mode": {
    "name": "ipython",
    "version": 3
   },
   "file_extension": ".py",
   "mimetype": "text/x-python",
   "name": "python",
   "nbconvert_exporter": "python",
   "pygments_lexer": "ipython3",
   "version": "3.10.9"
  }
 },
 "nbformat": 4,
 "nbformat_minor": 5
}
